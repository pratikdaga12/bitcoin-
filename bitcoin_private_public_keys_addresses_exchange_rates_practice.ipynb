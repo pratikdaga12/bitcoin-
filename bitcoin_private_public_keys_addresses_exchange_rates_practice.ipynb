{
 "cells": [
  {
   "cell_type": "markdown",
   "metadata": {},
   "source": [
    "# Creating bitcoin private and public keys"
   ]
  },
  {
   "cell_type": "code",
   "execution_count": 1,
   "metadata": {},
   "outputs": [
    {
     "name": "stdout",
     "output_type": "stream",
     "text": [
      "Requirement already satisfied: bitcoin in c:\\users\\prati\\anaconda3\\lib\\site-packages (1.1.42)\n"
     ]
    }
   ],
   "source": [
    "!pip install bitcoin\n",
    "from bitcoin import *"
   ]
  },
  {
   "cell_type": "code",
   "execution_count": 2,
   "metadata": {},
   "outputs": [
    {
     "name": "stdout",
     "output_type": "stream",
     "text": [
      "Private Key: 3154b949632d1391a32450a719b5f8eff5af59c724d7baa2c340d319033109ea\n",
      "\n",
      "Public Key: 04f7732f88156647101072ffdcb99bdf96ac2102e2cd07527f34eb0069146c63dd43d5448f773b704b7dca503c430370ecb795a2cd7fbb4efc20d4202922a79f7a\n",
      "\n",
      "Bitcoin Address: 1AePKPrBSE3ntke1AXzNxnnPrqq6sd7oVA\n",
      "\n"
     ]
    }
   ],
   "source": [
    "#Generate private key\n",
    "my_private_key = random_key()\n",
    "\n",
    "#display private key\n",
    "print(\"Private Key: %s\\n\" % my_private_key)\n",
    "\n",
    "#Generate public key\n",
    "my_public_key = privtopub(my_private_key)\n",
    "print(\"Public Key: %s\\n\" % my_public_key)\n",
    "\n",
    "#Create a bitcoin address\n",
    "my_bitcoin_address = pubtoaddr(my_public_key)\n",
    "print(\"Bitcoin Address: %s\\n\" % my_bitcoin_address)"
   ]
  },
  {
   "cell_type": "code",
   "execution_count": 3,
   "metadata": {},
   "outputs": [
    {
     "data": {
      "text/plain": [
       "'b5d4045c3f466fa91fe2cc6abe79232a1a57cdf104f7a26e716e0a1e2789df78'"
      ]
     },
     "execution_count": 3,
     "metadata": {},
     "output_type": "execute_result"
    }
   ],
   "source": [
    "from hashlib import sha256\n",
    "sha256(\"ABC\".encode(\"ascii\")).hexdigest()"
   ]
  },
  {
   "cell_type": "code",
   "execution_count": 4,
   "metadata": {},
   "outputs": [
    {
     "name": "stdout",
     "output_type": "stream",
     "text": [
      "Bitcoin mined with nonce value : 2387326\n",
      "Hash value :  00000f5254db00fa0dde976d53bb39c11f9350292949493943a90610d62c1a5e\n",
      "The mining process took  31.01997208595276 seconds\n"
     ]
    }
   ],
   "source": [
    "from hashlib import sha256\n",
    "def SHA256(text):\n",
    "  return sha256(text.encode(\"ascii\")).hexdigest()\n",
    "\n",
    "# MAX_NONCE=10000000\n",
    "def mine(block_number,transaction,previous_hash,prefix_zeros):\n",
    "  prefix_str='0'*prefix_zeros\n",
    "  nonce=0\n",
    "  while(1):\n",
    "    text= str(block_number) + transaction + previous_hash + str(nonce)\n",
    "    hash = SHA256(text)\n",
    "    # print(hash)\n",
    "    nonce=nonce+1\n",
    "    if hash.startswith(prefix_str):\n",
    "      print(\"Bitcoin mined with nonce value :\",nonce)\n",
    "      return hash\n",
    "  print(\"Could not find a hash in the given range of upto\", MAX_NONCE)\n",
    "\n",
    "transactions='''\n",
    "A->B->10\n",
    "B->c->5\n",
    "'''\n",
    "difficulty = 5\n",
    "import time as t\n",
    "begin=t.time()\n",
    "new_hash = mine(684260,transactions,\"000000000000000000006bd3d6ef94d8a01de84e171d3553534783b128f06aad\",difficulty)\n",
    "print(\"Hash value : \",new_hash)\n",
    "time_taken=t.time()- begin\n",
    "print(\"The mining process took \",time_taken,\"seconds\")"
   ]
  },
  {
   "cell_type": "code",
   "execution_count": 5,
   "metadata": {},
   "outputs": [
    {
     "name": "stdout",
     "output_type": "stream",
     "text": [
      "Bitcoin Address: 1AePKPrBSE3ntke1AXzNxnnPrqq6sd7oVA\n",
      "\n"
     ]
    }
   ],
   "source": [
    "#Create a bitcoin address\n",
    "my_bitcoin_address = pubtoaddr(my_public_key)\n",
    "print(\"Bitcoin Address: %s\\n\" % my_bitcoin_address)"
   ]
  },
  {
   "cell_type": "markdown",
   "metadata": {},
   "source": [
    "# Creating a multisignature bitcoin address"
   ]
  },
  {
   "cell_type": "code",
   "execution_count": 6,
   "metadata": {},
   "outputs": [
    {
     "name": "stdout",
     "output_type": "stream",
     "text": [
      "Private Key1: 6171b6e5beb9f7d1061ab243d5311fd6d59110758d40705c61f8516e431f2a71\n",
      "Private Key2: 3531aba94516ffae3253b585d4c88797fa5b4fc7a80c553b67fb0f36f3ee4e2c\n",
      "Private Key3: b42bac9b80c6d4e597cbcb023215c7f80276dad2ee0e657f120878db1216eaa1\n",
      "\n",
      "\n"
     ]
    }
   ],
   "source": [
    "#!/usr/bin/env python\n",
    "'''\n",
    "Title - Create multi-signature address\n",
    "\n",
    "This program demonstrates the creation of\n",
    "Multi-signature bitcoin address.\n",
    "'''\n",
    "# import bitcoin\n",
    "from bitcoin import *\n",
    "\n",
    "# Create Private Keys\n",
    "my_private_key1 = random_key()\n",
    "my_private_key2 = random_key()\n",
    "my_private_key3 = random_key()\n",
    "\n",
    "print(\"Private Key1: %s\" % my_private_key1)\n",
    "print(\"Private Key2: %s\" % my_private_key2)\n",
    "print(\"Private Key3: %s\" % my_private_key3)\n",
    "print('\\n')"
   ]
  },
  {
   "cell_type": "code",
   "execution_count": 7,
   "metadata": {},
   "outputs": [
    {
     "name": "stdout",
     "output_type": "stream",
     "text": [
      "Public Key1: 0462fdd60b0e7acee1b664bc0502b4c45255fc1d1e99025ca7275f56ff9ffed6efd8536322ec9e96f7667d9eb1057243821f5d8cbd7f7bfc5463d289d6571f8246\n",
      "Public Key2: 04d3698c2d7e8aee696ed7fd367106160645fbde5fb011ff56b9ce83af6ddbf3567df7db7b0885aa84638da802235471bc4f702558a5495f9c5d5f3e5194c3e14a\n",
      "Public Key3: 041fefda5adb9bdf90098af1953adcaed884a15c3a338124d8005da9d71f6c4fb750039db1c74eae6efeb237eb0f0420494f1fbde29b1b734a5a0b540e50d12a1f\n",
      "\n",
      "\n"
     ]
    }
   ],
   "source": [
    "# Create Public keys\n",
    "my_public_key1 = privtopub(my_private_key1)\n",
    "my_public_key2 = privtopub(my_private_key2)\n",
    "my_public_key3 = privtopub(my_private_key3)\n",
    "\n",
    "print(\"Public Key1: %s\" % my_public_key1)\n",
    "print(\"Public Key2: %s\" % my_public_key2)\n",
    "print(\"Public Key3: %s\" % my_public_key3)\n",
    "print('\\n')"
   ]
  },
  {
   "cell_type": "code",
   "execution_count": 8,
   "metadata": {},
   "outputs": [
    {
     "name": "stdout",
     "output_type": "stream",
     "text": [
      "Multi signature address: 3Ao2SRiM42m8gC4WDwNFQATaEVsHuscrPm\n"
     ]
    }
   ],
   "source": [
    "# Create Multi-signature address\n",
    "my_multi_sig = mk_multisig_script(my_private_key1, my_private_key2, my_private_key3, 2,3)\n",
    "my_multi_address = scriptaddr(my_multi_sig)\n",
    "print(\"Multi signature address: %s\" % my_multi_address)"
   ]
  },
  {
   "cell_type": "code",
   "execution_count": 9,
   "metadata": {},
   "outputs": [
    {
     "name": "stdout",
     "output_type": "stream",
     "text": [
      "[{'address': '329e5RtfraHHNPKGDMXNxtuS4QjZTXqBDg', 'value': 33769275, 'output': 'a09bc970853bd3acc1e3d6ca53edcaa4ecb0c48aa8df6f49a7a9b50e09cd8a1b:1', 'block_height': 536072, 'spend': 'e22ac6a71e5b3fb55c3e8bf29522424ba822c0c5cba91d25918259a93313a54f:0'}]\n"
     ]
    }
   ],
   "source": [
    "#looking at transaction history of a bitcoin address\n",
    "\n",
    "'''\n",
    "Title - Bitcoin Transaction History\n",
    "\n",
    "This program demonstrates listing history of a bitcoin address.\n",
    "'''\n",
    "# import bitcoin\n",
    "from bitcoin import *\n",
    "\n",
    "#View address transaction history\n",
    "a_valid_bitcoin_address = '329e5RtfraHHNPKGDMXNxtuS4QjZTXqBDg'\n",
    "print(history(a_valid_bitcoin_address))"
   ]
  },
  {
   "cell_type": "markdown",
   "metadata": {},
   "source": [
    "# Getting bitcoin exchange rates from Blockchain.info"
   ]
  },
  {
   "cell_type": "code",
   "execution_count": 10,
   "metadata": {},
   "outputs": [
    {
     "name": "stdout",
     "output_type": "stream",
     "text": [
      "Requirement already satisfied: blockchain in c:\\users\\prati\\anaconda3\\lib\\site-packages (1.4.4)\n",
      "Requirement already satisfied: enum-compat in c:\\users\\prati\\anaconda3\\lib\\site-packages (from blockchain) (0.0.3)\n",
      "Requirement already satisfied: future in c:\\users\\prati\\anaconda3\\lib\\site-packages (from blockchain) (0.18.2)\n"
     ]
    }
   ],
   "source": [
    "!pip install blockchain\n",
    "from blockchain import exchangerates"
   ]
  },
  {
   "cell_type": "code",
   "execution_count": 11,
   "metadata": {},
   "outputs": [
    {
     "name": "stdout",
     "output_type": "stream",
     "text": [
      "Bitcoin Prices in various currencies:\n",
      "USD 37376.64\n",
      "AUD 48295.11\n",
      "BRL 198944.69\n",
      "CAD 45146.69\n",
      "CHF 33544.49\n",
      "CLP 27228883.8\n",
      "CNY 239931.88\n",
      "DKK 227736.33\n",
      "EUR 30717.31\n",
      "GBP 26419.57\n",
      "HKD 290235.23\n",
      "INR 2724979.83\n",
      "ISK 4627228.3\n",
      "JPY 4069741.88\n",
      "KRW 42067097.17\n",
      "NZD 51881.28\n",
      "PLN 137220.64\n",
      "RUB 2746686.09\n",
      "SEK 311145.63\n",
      "SGD 49674.12\n",
      "THB 1171346.59\n",
      "TRY 313633.57\n",
      "TWD 1043462.33\n"
     ]
    }
   ],
   "source": [
    "# get the Bitcoin rates in various currencies\n",
    "ticker = exchangerates.get_ticker()\n",
    "\n",
    "# print the Bitcoin price for every currency\n",
    "print(\"Bitcoin Prices in various currencies:\")\n",
    "for k in ticker:\n",
    " print(k, ticker[k].p15min)"
   ]
  },
  {
   "cell_type": "code",
   "execution_count": 12,
   "metadata": {},
   "outputs": [
    {
     "name": "stdout",
     "output_type": "stream",
     "text": [
      "\n",
      "10000 INR in Bitcoin: 0.00366975 \n"
     ]
    }
   ],
   "source": [
    "# Getting Bitcoin value for a particular amount and currency\n",
    "btc = exchangerates.to_btc('INR', 10000)\n",
    "print(\"\\n10000 INR in Bitcoin: %s \" % btc)"
   ]
  },
  {
   "cell_type": "markdown",
   "metadata": {},
   "source": [
    "## Running statistics"
   ]
  },
  {
   "cell_type": "code",
   "execution_count": 13,
   "metadata": {},
   "outputs": [
    {
     "name": "stdout",
     "output_type": "stream",
     "text": [
      "Bitcoin Trade Volume: 75450.76\n",
      "\n"
     ]
    }
   ],
   "source": [
    "from blockchain import statistics\n",
    "\n",
    "# get the stats object\n",
    "stats = statistics.get()\n",
    "\n",
    "# get and print Bitcoin trade volume\n",
    "print(\"Bitcoin Trade Volume: %s\\n\" % stats.trade_volume_btc)"
   ]
  },
  {
   "cell_type": "code",
   "execution_count": 14,
   "metadata": {},
   "outputs": [
    {
     "name": "stdout",
     "output_type": "stream",
     "text": [
      "Bitcoin mined: 1250000000\n",
      "\n",
      "Bitcoin market price: 40395.31\n",
      "\n"
     ]
    }
   ],
   "source": [
    "#  get and print Bitcoin mined\n",
    "print(\"Bitcoin mined: %s\\n\" % stats.btc_mined)\n",
    "\n",
    "# get and print Bitcoin market price in usd\n",
    "print(\"Bitcoin market price: %s\\n\" % stats.market_price_usd)"
   ]
  },
  {
   "cell_type": "code",
   "execution_count": null,
   "metadata": {},
   "outputs": [],
   "source": []
  },
  {
   "cell_type": "code",
   "execution_count": null,
   "metadata": {},
   "outputs": [],
   "source": []
  }
 ],
 "metadata": {
  "kernelspec": {
   "display_name": "Python 3",
   "language": "python",
   "name": "python3"
  },
  "language_info": {
   "codemirror_mode": {
    "name": "ipython",
    "version": 3
   },
   "file_extension": ".py",
   "mimetype": "text/x-python",
   "name": "python",
   "nbconvert_exporter": "python",
   "pygments_lexer": "ipython3",
   "version": "3.7.6"
  }
 },
 "nbformat": 4,
 "nbformat_minor": 4
}
